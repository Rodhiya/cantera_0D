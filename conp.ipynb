{
 "cells": [
  {
   "cell_type": "code",
   "execution_count": 8,
   "metadata": {},
   "outputs": [],
   "source": [
    "import sys\n",
    "import numpy as np\n",
    "\n",
    "import cantera as ct\n",
    "import matplotlib.pyplot as plt\n",
    "# import struct\n",
    "# import os"
   ]
  },
  {
   "cell_type": "code",
   "execution_count": 9,
   "metadata": {},
   "outputs": [],
   "source": [
    "# The simulation integrates in time for these values:\n",
    "nstep = 10000\n",
    "step_size = 1.e-7\n",
    "\n",
    "# Defines the homogeneous mixture properties for use in the reactor\n",
    "# COH2.cti is the chemical input file generated from the CHEMKIN files\n",
    "\n",
    "#To generate the .cti file do: (see> man ck2cti)\n",
    "#       ck2cti --input=chem.inp --thermo=therm.dat --transport=trans.dat \n",
    "\n",
    "gas = ct.Solution('chem_Lietal.cti')\n",
    "# gas = ct.Solution('LiDryer_H2.cti')"
   ]
  },
  {
   "cell_type": "code",
   "execution_count": 10,
   "metadata": {},
   "outputs": [],
   "source": [
    "data_1bar = np.zeros(shape=(nstep,11))"
   ]
  },
  {
   "cell_type": "code",
   "execution_count": 11,
   "metadata": {},
   "outputs": [],
   "source": [
    "T_in = 1100\n",
    "P_in = ct.one_atm * 1\n",
    "gas.TP = T_in, P_in\n",
    "phi=0.35\n",
    "#g.X = 'H2:0.00811, O2:0.18316, N2:0.75691, H2O:0.05182'\n",
    "#print(g.get_equivalence_ratio('O2'))\n",
    "gas.set_equivalence_ratio(phi, {'H2':1.0}, {'O2':0.14440, 'N2':0.68155, 'H2O':0.07256})\n",
    "# gas.set_equivalence_ratio(phi, {'H2':1.0}, {'O2':1, 'N2':3.76})\n"
   ]
  },
  {
   "cell_type": "code",
   "execution_count": 12,
   "metadata": {},
   "outputs": [],
   "source": [
    "# 'r' is the name of the object which repreesntes your reactor\n",
    "# Here, r is a constant pressure reactor which solves the conservation \n",
    "# of species and energy equation\n",
    "# The mixture properties are passed into the call to set the initial condition\n",
    "r = ct.IdealGasConstPressureReactor(gas)\n",
    "\n",
    "# sim is the object which represents the progress in time of the reactor\n",
    "sim = ct.ReactorNet([r])\n",
    "time = 0.0\n"
   ]
  },
  {
   "cell_type": "code",
   "execution_count": 13,
   "metadata": {},
   "outputs": [],
   "source": [
    "#Here output is just to screen, can call routines to save to .csv or other files\n",
    "# see numpy documentation\n",
    "\n",
    "# To get ignition delay time, store array of T and time, define ignition as, say\n",
    "# max(dT/dt)\n",
    "dtdT = np.zeros(shape=(nstep,2))\n",
    "grdT = np.zeros(shape=(nstep,1))\n",
    "\n",
    "#print('%10s %10s %10s %14s' % ('t [s]','T [K]','P [Pa]','u [J/kg]'))\n",
    "for n in range(nstep):\n",
    "    time += step_size\n",
    "# Integrates the solution in time\n",
    "    sim.advance(time)\n",
    "    data_1bar[n,0:9]=r.Y\n",
    "    data_1bar[n,9]=r.T\n",
    "\n",
    "\n",
    "    dtdT[n,0] = sim.time\n",
    "    dtdT[n,1] = r.T\n",
    "data_1bar[:,10] = P_in"
   ]
  },
  {
   "cell_type": "code",
   "execution_count": 14,
   "metadata": {
    "scrolled": true
   },
   "outputs": [
    {
     "name": "stdout",
     "output_type": "stream",
     "text": [
      "1285\n",
      "autoignition delay time at Temp:  1100.000 and pressure:101325.000 is   1.286000e-01 ms\n"
     ]
    }
   ],
   "source": [
    "max_index = np.argmax(np.gradient(dtdT[:,1]/np.gradient(dtdT[:,0])))\n",
    "print(max_index)\n",
    "print('autoignition delay time at Temp:%10.3f and pressure:%10.3f is %14.6e ms' % (T_in, P_in, dtdT[max_index,0]*1000))"
   ]
  },
  {
   "cell_type": "code",
   "execution_count": 16,
   "metadata": {},
   "outputs": [
    {
     "data": {
      "text/plain": [
       "[<matplotlib.lines.Line2D at 0x7f08782ae310>]"
      ]
     },
     "execution_count": 16,
     "metadata": {},
     "output_type": "execute_result"
    },
    {
     "data": {
      "image/png": "[encoded data removed]",
      "text/plain": [
       "<Figure size 432x288 with 1 Axes>"
      ]
     },
     "metadata": {
      "needs_background": "light"
     },
     "output_type": "display_data"
    }
   ],
   "source": [
    "plt.plot(data_1bar[:,9])"
   ]
  }
 ],
 "metadata": {
  "kernelspec": {
   "display_name": "Python 3",
   "language": "python",
   "name": "python3"
  },
  "language_info": {
   "codemirror_mode": {
    "name": "ipython",
    "version": 3
   },
   "file_extension": ".py",
   "mimetype": "text/x-python",
   "name": "python",
   "nbconvert_exporter": "python",
   "pygments_lexer": "ipython3",
   "version": "3.9.5"
  }
 },
 "nbformat": 4,
 "nbformat_minor": 4
}
