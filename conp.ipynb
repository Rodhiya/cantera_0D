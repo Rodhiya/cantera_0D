{
 "cells": [
  {
   "cell_type": "code",
   "execution_count": 30,
   "metadata": {},
   "outputs": [],
   "source": [
    "import sys\n",
    "import numpy as np\n",
    "\n",
    "import cantera as ct\n",
    "import struct\n",
    "import os"
   ]
  },
  {
   "cell_type": "code",
   "execution_count": 50,
   "metadata": {},
   "outputs": [],
   "source": [
    "# The simulation integrates in time for these values:\n",
    "nstep = 10000\n",
    "step_size = 1.e-7\n",
    "\n",
    "# Defines the homogeneous mixture properties for use in the reactor\n",
    "# COH2.cti is the chemical input file generated from the CHEMKIN files\n",
    "\n",
    "#To generate the .cti file do: (see> man ck2cti)\n",
    "#       ck2cti --input=chem.inp --thermo=therm.dat --transport=trans.dat \n",
    "\n",
    "gas = ct.Solution('chem_Lietal.cti')\n",
    "# gas = ct.Solution('LiDryer_H2.cti')"
   ]
  },
  {
   "cell_type": "code",
   "execution_count": 51,
   "metadata": {},
   "outputs": [],
   "source": [
    "data_1bar = np.zeros(shape=(nstep,11))"
   ]
  },
  {
   "cell_type": "code",
   "execution_count": 52,
   "metadata": {},
   "outputs": [],
   "source": [
    "T_in = 1132\n",
    "P_in = ct.one_atm * 5\n",
    "gas.TP = T_in, P_in\n",
    "phi=0.35\n",
    "#g.X = 'H2:0.00811, O2:0.18316, N2:0.75691, H2O:0.05182'\n",
    "#print(g.get_equivalence_ratio('O2'))\n",
    "gas.set_equivalence_ratio(phi, {'H2':1.0}, {'O2':0.14440, 'N2':0.68155, 'H2O':0.07256})\n",
    "# gas.set_equivalence_ratio(phi, {'H2':1.0}, {'O2':1, 'N2':3.76})\n"
   ]
  },
  {
   "cell_type": "code",
   "execution_count": 53,
   "metadata": {},
   "outputs": [
    {
     "data": {
      "text/plain": [
       "4.57152066502493e-05"
      ]
     },
     "execution_count": 53,
     "metadata": {},
     "output_type": "execute_result"
    }
   ],
   "source": [
    "gas.viscosity"
   ]
  },
  {
   "cell_type": "code",
   "execution_count": 54,
   "metadata": {},
   "outputs": [
    {
     "data": {
      "text/plain": [
       "25.234744825378407"
      ]
     },
     "execution_count": 54,
     "metadata": {},
     "output_type": "execute_result"
    }
   ],
   "source": [
    "gas.mean_molecular_weight"
   ]
  },
  {
   "cell_type": "code",
   "execution_count": 57,
   "metadata": {},
   "outputs": [
    {
     "data": {
      "text/plain": [
       "1.3221433143111903"
      ]
     },
     "execution_count": 57,
     "metadata": {},
     "output_type": "execute_result"
    }
   ],
   "source": [
    "gas.cp/gas.cv"
   ]
  },
  {
   "cell_type": "code",
   "execution_count": 39,
   "metadata": {},
   "outputs": [],
   "source": [
    "# 'r' is the name of the object which repreesntes your reactor\n",
    "# Here, r is a constant pressure reactor which solves the conservation \n",
    "# of species and energy equation\n",
    "# The mixture properties are passed into the call to set the initial condition\n",
    "r = ct.IdealGasConstPressureReactor(gas)\n",
    "\n",
    "# sim is the object which represents the progress in time of the reactor\n",
    "sim = ct.ReactorNet([r])\n",
    "time = 0.0\n"
   ]
  },
  {
   "cell_type": "code",
   "execution_count": 40,
   "metadata": {},
   "outputs": [],
   "source": [
    "#Here output is just to screen, can call routines to save to .csv or other files\n",
    "# see numpy documentation\n",
    "\n",
    "# To get ignition delay time, store array of T and time, define ignition as, say\n",
    "# max(dT/dt)\n",
    "dtdT = np.zeros(shape=(nstep,2))\n",
    "grdT = np.zeros(shape=(nstep,1))\n",
    "\n",
    "#print('%10s %10s %10s %14s' % ('t [s]','T [K]','P [Pa]','u [J/kg]'))\n",
    "for n in range(nstep):\n",
    "    time += step_size\n",
    "# Integrates the solution in time\n",
    "    sim.advance(time)\n",
    "    data_1bar[n,0:9]=r.Y\n",
    "    data_1bar[n,9]=r.T\n",
    "#    print('%10.3e %10.3f %10.3f %14.6e' % (sim.time, r.T,\n",
    "#                                           r.thermo.P, r.thermo.u))\n",
    "#    f2.write('%10.3e %10.3f %10.3f %14.6e' % (sim.time, r.T,\n",
    "#                                           r.thermo.P, r.thermo.u))\n",
    "#    f2.write('\\n')\n",
    "#    f3.write('%16.9e %16.9e %16.9e %16.9e %16.9e %16.9e %16.9e %16.9e ' % (r.Y[0], r.Y[1], r.Y[2], r.Y[3], r.Y[4], r.Y[5], r.Y[6], r.Y[7]))\n",
    "#    f3.write('\\n')\n",
    "\n",
    "    dtdT[n,0] = sim.time\n",
    "    dtdT[n,1] = r.T\n",
    "data_1bar[:,10] = P_in"
   ]
  },
  {
   "cell_type": "code",
   "execution_count": 41,
   "metadata": {},
   "outputs": [
    {
     "name": "stdout",
     "output_type": "stream",
     "text": [
      "1965\n",
      "autoignition delay time at Temp:  1132.000 and pressure:506625.000 is   1.966000e-01 ms\n"
     ]
    }
   ],
   "source": [
    "max_index = np.argmax(np.gradient(dtdT[:,1]/np.gradient(dtdT[:,0])))\n",
    "print(max_index)\n",
    "print('autoignition delay time at Temp:%10.3f and pressure:%10.3f is %14.6e ms' % (T_in, P_in, dtdT[max_index,0]*1000))"
   ]
  },
  {
   "cell_type": "code",
   "execution_count": 45,
   "metadata": {},
   "outputs": [
    {
     "data": {
      "text/plain": [
       "cantera._cantera.Transport"
      ]
     },
     "execution_count": 45,
     "metadata": {},
     "output_type": "execute_result"
    }
   ],
   "source": [
    "ct.Transport"
   ]
  },
  {
   "cell_type": "code",
   "execution_count": 49,
   "metadata": {},
   "outputs": [
    {
     "data": {
      "text/plain": [
       "6.313824232094791e-05"
      ]
     },
     "execution_count": 49,
     "metadata": {},
     "output_type": "execute_result"
    }
   ],
   "source": [
    "gas.viscosity"
   ]
  },
  {
   "cell_type": "code",
   "execution_count": 9,
   "metadata": {},
   "outputs": [
    {
     "data": {
      "text/plain": [
       "array([[8.07857834e-03, 1.83176268e-01, 1.44438065e-12, ...,\n",
       "        7.56923565e-01, 1.13200000e+03, 5.06625000e+05],\n",
       "       [8.07857833e-03, 1.83176268e-01, 4.98539936e-12, ...,\n",
       "        7.56923565e-01, 1.13200000e+03, 5.06625000e+05],\n",
       "       [8.07857833e-03, 1.83176268e-01, 9.80480801e-12, ...,\n",
       "        7.56923565e-01, 1.13200000e+03, 5.06625000e+05],\n",
       "       ...,\n",
       "       [1.55128555e-06, 1.18829958e-01, 1.50938998e-05, ...,\n",
       "        7.56923565e-01, 1.84245769e+03, 5.06625000e+05],\n",
       "       [1.55128555e-06, 1.18829958e-01, 1.50938998e-05, ...,\n",
       "        7.56923565e-01, 1.84245769e+03, 5.06625000e+05],\n",
       "       [1.55128555e-06, 1.18829958e-01, 1.50938998e-05, ...,\n",
       "        7.56923565e-01, 1.84245769e+03, 5.06625000e+05]])"
      ]
     },
     "execution_count": 9,
     "metadata": {},
     "output_type": "execute_result"
    }
   ],
   "source": [
    "data_1bar"
   ]
  },
  {
   "cell_type": "code",
   "execution_count": 15,
   "metadata": {},
   "outputs": [
    {
     "data": {
      "text/plain": [
       "(1000000, 11)"
      ]
     },
     "execution_count": 15,
     "metadata": {},
     "output_type": "execute_result"
    }
   ],
   "source": [
    "data_1bar.shape"
   ]
  },
  {
   "cell_type": "code",
   "execution_count": 18,
   "metadata": {},
   "outputs": [],
   "source": [
    "data_1bar_u = data_1bar.reshape(-1, order='F')"
   ]
  },
  {
   "cell_type": "code",
   "execution_count": 43,
   "metadata": {},
   "outputs": [
    {
     "data": {
      "text/plain": [
       "array([[8.07817135e-03, 1.83182523e-01, 2.79184652e-14, ...,\n",
       "        7.56916438e-01, 1.10000000e+03, 1.01325000e+05],\n",
       "       [8.07817135e-03, 1.83182523e-01, 1.08960151e-13, ...,\n",
       "        7.56916438e-01, 1.10000000e+03, 1.01325000e+05],\n",
       "       [8.07817135e-03, 1.83182523e-01, 2.40335991e-13, ...,\n",
       "        7.56916438e-01, 1.10000000e+03, 1.01325000e+05],\n",
       "       ...,\n",
       "       [2.62205595e-06, 1.18775654e-01, 2.54109842e-05, ...,\n",
       "        7.56916438e-01, 1.81158511e+03, 1.01325000e+05],\n",
       "       [2.62205595e-06, 1.18775654e-01, 2.54109842e-05, ...,\n",
       "        7.56916438e-01, 1.81158511e+03, 1.01325000e+05],\n",
       "       [2.62205595e-06, 1.18775654e-01, 2.54109842e-05, ...,\n",
       "        7.56916438e-01, 1.81158511e+03, 1.01325000e+05]])"
      ]
     },
     "execution_count": 43,
     "metadata": {},
     "output_type": "execute_result"
    }
   ],
   "source": [
    "data_1bar"
   ]
  },
  {
   "cell_type": "code",
   "execution_count": 35,
   "metadata": {},
   "outputs": [
    {
     "data": {
      "text/plain": [
       "88000000"
      ]
     },
     "execution_count": 35,
     "metadata": {},
     "output_type": "execute_result"
    }
   ],
   "source": [
    "f = 'first.mpi'\n",
    "fout = open(f, 'ab')\n",
    "temp=fout.write(struct.pack('<11000000d', *data_1bar_u))\n",
    "# seek = temp+seek\n",
    "fout.seek(temp)"
   ]
  },
  {
   "cell_type": "code",
   "execution_count": 37,
   "metadata": {},
   "outputs": [],
   "source": [
    "fout.close()"
   ]
  },
  {
   "cell_type": "code",
   "execution_count": 41,
   "metadata": {},
   "outputs": [],
   "source": [
    "f = 'first.mpi'\n",
    "data = np.fromfile(f, dtype=\"float64\",count=nstep*11)\n",
    "data = np.reshape(data, newshape=(nstep, 11), order='F')"
   ]
  },
  {
   "cell_type": "code",
   "execution_count": 44,
   "metadata": {},
   "outputs": [
    {
     "data": {
      "text/plain": [
       "array([[0., 0., 0., ..., 0., 0., 0.],\n",
       "       [0., 0., 0., ..., 0., 0., 0.],\n",
       "       [0., 0., 0., ..., 0., 0., 0.],\n",
       "       ...,\n",
       "       [0., 0., 0., ..., 0., 0., 0.],\n",
       "       [0., 0., 0., ..., 0., 0., 0.],\n",
       "       [0., 0., 0., ..., 0., 0., 0.]])"
      ]
     },
     "execution_count": 44,
     "metadata": {},
     "output_type": "execute_result"
    }
   ],
   "source": [
    "data-data_1bar"
   ]
  },
  {
   "cell_type": "code",
   "execution_count": null,
   "metadata": {},
   "outputs": [],
   "source": []
  }
 ],
 "metadata": {
  "kernelspec": {
   "display_name": "Python 3",
   "language": "python",
   "name": "python3"
  },
  "language_info": {
   "codemirror_mode": {
    "name": "ipython",
    "version": 3
   },
   "file_extension": ".py",
   "mimetype": "text/x-python",
   "name": "python",
   "nbconvert_exporter": "python",
   "pygments_lexer": "ipython3",
   "version": "3.7.10"
  }
 },
 "nbformat": 4,
 "nbformat_minor": 4
}
